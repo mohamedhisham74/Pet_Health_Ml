{
 "cells": [
  {
   "cell_type": "code",
   "execution_count": 1,
   "id": "431fa411-d155-4202-92ad-6f047fc23645",
   "metadata": {
    "ExecuteTime": {
     "end_time": "2025-03-05T15:24:28.681603Z",
     "start_time": "2025-03-05T15:24:24.031201Z"
    }
   },
   "outputs": [],
   "source": [
    "# import all Library\n",
    "import os \n",
    "import joblib\n",
    "import numpy as np\n",
    "import pandas as pd\n",
    "from sklearn.model_selection import StratifiedShuffleSplit\n",
    "from sklearn.linear_model import LogisticRegression\n",
    "#from xgboost import XGBClassifier\n",
    "from sklearn.ensemble import RandomForestClassifier\n",
    "from sklearn.neighbors import KNeighborsClassifier\n",
    "from sklearn.neural_network import MLPClassifier\n",
    "from sklearn.metrics import accuracy_score,confusion_matrix,precision_score,f1_score,recall_score,roc_auc_score,classification_report\n",
    "from sklearn.preprocessing import OrdinalEncoder,LabelEncoder\n",
    "from sklearn.datasets import load_iris\n",
    "import matplotlib.pyplot as plt\n",
    "import seaborn as sns\n",
    "from imblearn.over_sampling import SMOTE\n",
    "from imblearn.under_sampling import RandomUnderSampler\n",
    "from sklearn.model_selection import KFold, cross_val_score"
   ]
  },
  {
   "cell_type": "code",
   "execution_count": 6,
   "id": "1aced873-85d7-4ad8-9557-25a0a2e1ae92",
   "metadata": {
    "ExecuteTime": {
     "end_time": "2025-03-05T15:25:24.692874Z",
     "start_time": "2025-03-05T15:25:24.620325Z"
    }
   },
   "outputs": [
    {
     "data": {
      "text/html": [
       "<div>\n",
       "<style scoped>\n",
       "    .dataframe tbody tr th:only-of-type {\n",
       "        vertical-align: middle;\n",
       "    }\n",
       "\n",
       "    .dataframe tbody tr th {\n",
       "        vertical-align: top;\n",
       "    }\n",
       "\n",
       "    .dataframe thead th {\n",
       "        text-align: right;\n",
       "    }\n",
       "</style>\n",
       "<table border=\"1\" class=\"dataframe\">\n",
       "  <thead>\n",
       "    <tr style=\"text-align: right;\">\n",
       "      <th></th>\n",
       "      <th>Age</th>\n",
       "      <th>Weight</th>\n",
       "      <th>Temperature</th>\n",
       "      <th>Heart_Rate</th>\n",
       "      <th>Activity_Level</th>\n",
       "      <th>Eating_Habits</th>\n",
       "      <th>Hydration</th>\n",
       "      <th>Exercise_Hours</th>\n",
       "      <th>Pet_Type</th>\n",
       "      <th>Breed_Category</th>\n",
       "      <th>Vaccination_Status</th>\n",
       "      <th>Sick</th>\n",
       "      <th>sick</th>\n",
       "    </tr>\n",
       "  </thead>\n",
       "  <tbody>\n",
       "    <tr>\n",
       "      <th>0</th>\n",
       "      <td>18</td>\n",
       "      <td>27.002131</td>\n",
       "      <td>37.072971</td>\n",
       "      <td>151</td>\n",
       "      <td>1</td>\n",
       "      <td>4</td>\n",
       "      <td>1.456332</td>\n",
       "      <td>2.912025</td>\n",
       "      <td>Cat</td>\n",
       "      <td>Medium</td>\n",
       "      <td>Not up-to-date</td>\n",
       "      <td>group_0</td>\n",
       "      <td>Rabies</td>\n",
       "    </tr>\n",
       "    <tr>\n",
       "      <th>1</th>\n",
       "      <td>4</td>\n",
       "      <td>5.727586</td>\n",
       "      <td>38.406675</td>\n",
       "      <td>84</td>\n",
       "      <td>6</td>\n",
       "      <td>3</td>\n",
       "      <td>1.476085</td>\n",
       "      <td>1.115939</td>\n",
       "      <td>Cat</td>\n",
       "      <td>Large</td>\n",
       "      <td>Up-to-date</td>\n",
       "      <td>group_0</td>\n",
       "      <td>Rabies</td>\n",
       "    </tr>\n",
       "    <tr>\n",
       "      <th>2</th>\n",
       "      <td>4</td>\n",
       "      <td>23.854278</td>\n",
       "      <td>39.749597</td>\n",
       "      <td>67</td>\n",
       "      <td>5</td>\n",
       "      <td>3</td>\n",
       "      <td>1.696218</td>\n",
       "      <td>2.861636</td>\n",
       "      <td>Dog</td>\n",
       "      <td>Medium</td>\n",
       "      <td>Up-to-date</td>\n",
       "      <td>group_0</td>\n",
       "      <td>Rabies</td>\n",
       "    </tr>\n",
       "    <tr>\n",
       "      <th>3</th>\n",
       "      <td>6</td>\n",
       "      <td>25.229610</td>\n",
       "      <td>36.028772</td>\n",
       "      <td>144</td>\n",
       "      <td>9</td>\n",
       "      <td>1</td>\n",
       "      <td>2.053697</td>\n",
       "      <td>0.138554</td>\n",
       "      <td>Dog</td>\n",
       "      <td>Small</td>\n",
       "      <td>Not up-to-date</td>\n",
       "      <td>group_1</td>\n",
       "      <td>Rabies</td>\n",
       "    </tr>\n",
       "    <tr>\n",
       "      <th>4</th>\n",
       "      <td>1</td>\n",
       "      <td>12.835061</td>\n",
       "      <td>36.980476</td>\n",
       "      <td>146</td>\n",
       "      <td>9</td>\n",
       "      <td>3</td>\n",
       "      <td>1.336203</td>\n",
       "      <td>3.913909</td>\n",
       "      <td>Cat</td>\n",
       "      <td>Medium</td>\n",
       "      <td>Not up-to-date</td>\n",
       "      <td>group_0</td>\n",
       "      <td>Rabies</td>\n",
       "    </tr>\n",
       "    <tr>\n",
       "      <th>...</th>\n",
       "      <td>...</td>\n",
       "      <td>...</td>\n",
       "      <td>...</td>\n",
       "      <td>...</td>\n",
       "      <td>...</td>\n",
       "      <td>...</td>\n",
       "      <td>...</td>\n",
       "      <td>...</td>\n",
       "      <td>...</td>\n",
       "      <td>...</td>\n",
       "      <td>...</td>\n",
       "      <td>...</td>\n",
       "      <td>...</td>\n",
       "    </tr>\n",
       "    <tr>\n",
       "      <th>11995</th>\n",
       "      <td>3</td>\n",
       "      <td>28.075277</td>\n",
       "      <td>36.438101</td>\n",
       "      <td>172</td>\n",
       "      <td>3</td>\n",
       "      <td>1</td>\n",
       "      <td>0.929848</td>\n",
       "      <td>4.703767</td>\n",
       "      <td>Cat</td>\n",
       "      <td>Small</td>\n",
       "      <td>Not up-to-date</td>\n",
       "      <td>group_1</td>\n",
       "      <td>Obesity</td>\n",
       "    </tr>\n",
       "    <tr>\n",
       "      <th>11996</th>\n",
       "      <td>6</td>\n",
       "      <td>31.510742</td>\n",
       "      <td>36.579686</td>\n",
       "      <td>155</td>\n",
       "      <td>7</td>\n",
       "      <td>2</td>\n",
       "      <td>2.798863</td>\n",
       "      <td>3.103848</td>\n",
       "      <td>Dog</td>\n",
       "      <td>Medium</td>\n",
       "      <td>Not up-to-date</td>\n",
       "      <td>group_0</td>\n",
       "      <td>Obesity</td>\n",
       "    </tr>\n",
       "    <tr>\n",
       "      <th>11997</th>\n",
       "      <td>5</td>\n",
       "      <td>31.671382</td>\n",
       "      <td>39.187926</td>\n",
       "      <td>175</td>\n",
       "      <td>5</td>\n",
       "      <td>4</td>\n",
       "      <td>2.258787</td>\n",
       "      <td>0.275499</td>\n",
       "      <td>Cat</td>\n",
       "      <td>Small</td>\n",
       "      <td>Up-to-date</td>\n",
       "      <td>group_0</td>\n",
       "      <td>Obesity</td>\n",
       "    </tr>\n",
       "    <tr>\n",
       "      <th>11998</th>\n",
       "      <td>4</td>\n",
       "      <td>5.753224</td>\n",
       "      <td>39.645233</td>\n",
       "      <td>69</td>\n",
       "      <td>3</td>\n",
       "      <td>2</td>\n",
       "      <td>0.742761</td>\n",
       "      <td>2.544635</td>\n",
       "      <td>Dog</td>\n",
       "      <td>Medium</td>\n",
       "      <td>Up-to-date</td>\n",
       "      <td>group_0</td>\n",
       "      <td>Obesity</td>\n",
       "    </tr>\n",
       "    <tr>\n",
       "      <th>11999</th>\n",
       "      <td>15</td>\n",
       "      <td>15.839399</td>\n",
       "      <td>37.318812</td>\n",
       "      <td>142</td>\n",
       "      <td>1</td>\n",
       "      <td>4</td>\n",
       "      <td>2.095036</td>\n",
       "      <td>4.689649</td>\n",
       "      <td>Dog</td>\n",
       "      <td>Large</td>\n",
       "      <td>Up-to-date</td>\n",
       "      <td>group_0</td>\n",
       "      <td>Obesity</td>\n",
       "    </tr>\n",
       "  </tbody>\n",
       "</table>\n",
       "<p>12000 rows × 13 columns</p>\n",
       "</div>"
      ],
      "text/plain": [
       "       Age     Weight  Temperature  Heart_Rate  Activity_Level  Eating_Habits  \\\n",
       "0       18  27.002131    37.072971         151               1              4   \n",
       "1        4   5.727586    38.406675          84               6              3   \n",
       "2        4  23.854278    39.749597          67               5              3   \n",
       "3        6  25.229610    36.028772         144               9              1   \n",
       "4        1  12.835061    36.980476         146               9              3   \n",
       "...    ...        ...          ...         ...             ...            ...   \n",
       "11995    3  28.075277    36.438101         172               3              1   \n",
       "11996    6  31.510742    36.579686         155               7              2   \n",
       "11997    5  31.671382    39.187926         175               5              4   \n",
       "11998    4   5.753224    39.645233          69               3              2   \n",
       "11999   15  15.839399    37.318812         142               1              4   \n",
       "\n",
       "       Hydration  Exercise_Hours Pet_Type Breed_Category Vaccination_Status  \\\n",
       "0       1.456332        2.912025      Cat         Medium     Not up-to-date   \n",
       "1       1.476085        1.115939      Cat          Large         Up-to-date   \n",
       "2       1.696218        2.861636      Dog         Medium         Up-to-date   \n",
       "3       2.053697        0.138554      Dog          Small     Not up-to-date   \n",
       "4       1.336203        3.913909      Cat         Medium     Not up-to-date   \n",
       "...          ...             ...      ...            ...                ...   \n",
       "11995   0.929848        4.703767      Cat          Small     Not up-to-date   \n",
       "11996   2.798863        3.103848      Dog         Medium     Not up-to-date   \n",
       "11997   2.258787        0.275499      Cat          Small         Up-to-date   \n",
       "11998   0.742761        2.544635      Dog         Medium         Up-to-date   \n",
       "11999   2.095036        4.689649      Dog          Large         Up-to-date   \n",
       "\n",
       "          Sick     sick  \n",
       "0      group_0   Rabies  \n",
       "1      group_0   Rabies  \n",
       "2      group_0   Rabies  \n",
       "3      group_1   Rabies  \n",
       "4      group_0   Rabies  \n",
       "...        ...      ...  \n",
       "11995  group_1  Obesity  \n",
       "11996  group_0  Obesity  \n",
       "11997  group_0  Obesity  \n",
       "11998  group_0  Obesity  \n",
       "11999  group_0  Obesity  \n",
       "\n",
       "[12000 rows x 13 columns]"
      ]
     },
     "execution_count": 6,
     "metadata": {},
     "output_type": "execute_result"
    }
   ],
   "source": [
    "# Read dataset\n",
    "FILE_PATH=os.path.join(os.getcwd(),\"..\",\"dataset\",\"pet_health_dataset_n.csv\")\n",
    "df = pd.read_csv(FILE_PATH)\n",
    "df"
   ]
  },
  {
   "cell_type": "code",
   "execution_count": 7,
   "id": "1691deec-d1d2-4f4c-9d3a-7ac7e35e9aff",
   "metadata": {},
   "outputs": [
    {
     "data": {
      "text/html": [
       "<div>\n",
       "<style scoped>\n",
       "    .dataframe tbody tr th:only-of-type {\n",
       "        vertical-align: middle;\n",
       "    }\n",
       "\n",
       "    .dataframe tbody tr th {\n",
       "        vertical-align: top;\n",
       "    }\n",
       "\n",
       "    .dataframe thead th {\n",
       "        text-align: right;\n",
       "    }\n",
       "</style>\n",
       "<table border=\"1\" class=\"dataframe\">\n",
       "  <thead>\n",
       "    <tr style=\"text-align: right;\">\n",
       "      <th></th>\n",
       "      <th>Age</th>\n",
       "      <th>Weight</th>\n",
       "      <th>Temperature</th>\n",
       "      <th>Heart_Rate</th>\n",
       "      <th>Activity_Level</th>\n",
       "      <th>Eating_Habits</th>\n",
       "      <th>Hydration</th>\n",
       "      <th>Exercise_Hours</th>\n",
       "      <th>Pet_Type</th>\n",
       "      <th>Breed_Category</th>\n",
       "      <th>Vaccination_Status</th>\n",
       "      <th>Sick</th>\n",
       "      <th>sick</th>\n",
       "    </tr>\n",
       "  </thead>\n",
       "  <tbody>\n",
       "    <tr>\n",
       "      <th>0</th>\n",
       "      <td>18</td>\n",
       "      <td>27.002131</td>\n",
       "      <td>37.072971</td>\n",
       "      <td>151</td>\n",
       "      <td>1</td>\n",
       "      <td>4</td>\n",
       "      <td>1.456332</td>\n",
       "      <td>2.912025</td>\n",
       "      <td>Cat</td>\n",
       "      <td>Medium</td>\n",
       "      <td>Not up-to-date</td>\n",
       "      <td>group_0</td>\n",
       "      <td>Rabies</td>\n",
       "    </tr>\n",
       "    <tr>\n",
       "      <th>1</th>\n",
       "      <td>4</td>\n",
       "      <td>5.727586</td>\n",
       "      <td>38.406675</td>\n",
       "      <td>84</td>\n",
       "      <td>6</td>\n",
       "      <td>3</td>\n",
       "      <td>1.476085</td>\n",
       "      <td>1.115939</td>\n",
       "      <td>Cat</td>\n",
       "      <td>Large</td>\n",
       "      <td>Up-to-date</td>\n",
       "      <td>group_0</td>\n",
       "      <td>Rabies</td>\n",
       "    </tr>\n",
       "    <tr>\n",
       "      <th>2</th>\n",
       "      <td>4</td>\n",
       "      <td>23.854278</td>\n",
       "      <td>39.749597</td>\n",
       "      <td>67</td>\n",
       "      <td>5</td>\n",
       "      <td>3</td>\n",
       "      <td>1.696218</td>\n",
       "      <td>2.861636</td>\n",
       "      <td>Dog</td>\n",
       "      <td>Medium</td>\n",
       "      <td>Up-to-date</td>\n",
       "      <td>group_0</td>\n",
       "      <td>Rabies</td>\n",
       "    </tr>\n",
       "    <tr>\n",
       "      <th>3</th>\n",
       "      <td>6</td>\n",
       "      <td>25.229610</td>\n",
       "      <td>36.028772</td>\n",
       "      <td>144</td>\n",
       "      <td>9</td>\n",
       "      <td>1</td>\n",
       "      <td>2.053697</td>\n",
       "      <td>0.138554</td>\n",
       "      <td>Dog</td>\n",
       "      <td>Small</td>\n",
       "      <td>Not up-to-date</td>\n",
       "      <td>group_1</td>\n",
       "      <td>Rabies</td>\n",
       "    </tr>\n",
       "    <tr>\n",
       "      <th>4</th>\n",
       "      <td>1</td>\n",
       "      <td>12.835061</td>\n",
       "      <td>36.980476</td>\n",
       "      <td>146</td>\n",
       "      <td>9</td>\n",
       "      <td>3</td>\n",
       "      <td>1.336203</td>\n",
       "      <td>3.913909</td>\n",
       "      <td>Cat</td>\n",
       "      <td>Medium</td>\n",
       "      <td>Not up-to-date</td>\n",
       "      <td>group_0</td>\n",
       "      <td>Rabies</td>\n",
       "    </tr>\n",
       "  </tbody>\n",
       "</table>\n",
       "</div>"
      ],
      "text/plain": [
       "   Age     Weight  Temperature  Heart_Rate  Activity_Level  Eating_Habits  \\\n",
       "0   18  27.002131    37.072971         151               1              4   \n",
       "1    4   5.727586    38.406675          84               6              3   \n",
       "2    4  23.854278    39.749597          67               5              3   \n",
       "3    6  25.229610    36.028772         144               9              1   \n",
       "4    1  12.835061    36.980476         146               9              3   \n",
       "\n",
       "   Hydration  Exercise_Hours Pet_Type Breed_Category Vaccination_Status  \\\n",
       "0   1.456332        2.912025      Cat         Medium     Not up-to-date   \n",
       "1   1.476085        1.115939      Cat          Large         Up-to-date   \n",
       "2   1.696218        2.861636      Dog         Medium         Up-to-date   \n",
       "3   2.053697        0.138554      Dog          Small     Not up-to-date   \n",
       "4   1.336203        3.913909      Cat         Medium     Not up-to-date   \n",
       "\n",
       "      Sick    sick  \n",
       "0  group_0  Rabies  \n",
       "1  group_0  Rabies  \n",
       "2  group_0  Rabies  \n",
       "3  group_1  Rabies  \n",
       "4  group_0  Rabies  "
      ]
     },
     "execution_count": 7,
     "metadata": {},
     "output_type": "execute_result"
    }
   ],
   "source": [
    "# Show the Frist 5 Rows from Dataset\n",
    "df.head()"
   ]
  },
  {
   "cell_type": "code",
   "execution_count": 8,
   "id": "8f1c0227-a5b6-42d4-9fd2-46992b74f25a",
   "metadata": {},
   "outputs": [
    {
     "data": {
      "text/html": [
       "<div>\n",
       "<style scoped>\n",
       "    .dataframe tbody tr th:only-of-type {\n",
       "        vertical-align: middle;\n",
       "    }\n",
       "\n",
       "    .dataframe tbody tr th {\n",
       "        vertical-align: top;\n",
       "    }\n",
       "\n",
       "    .dataframe thead th {\n",
       "        text-align: right;\n",
       "    }\n",
       "</style>\n",
       "<table border=\"1\" class=\"dataframe\">\n",
       "  <thead>\n",
       "    <tr style=\"text-align: right;\">\n",
       "      <th></th>\n",
       "      <th>Age</th>\n",
       "      <th>Weight</th>\n",
       "      <th>Temperature</th>\n",
       "      <th>Heart_Rate</th>\n",
       "      <th>Activity_Level</th>\n",
       "      <th>Eating_Habits</th>\n",
       "      <th>Hydration</th>\n",
       "      <th>Exercise_Hours</th>\n",
       "      <th>Pet_Type</th>\n",
       "      <th>Breed_Category</th>\n",
       "      <th>Vaccination_Status</th>\n",
       "      <th>Sick</th>\n",
       "      <th>sick</th>\n",
       "    </tr>\n",
       "  </thead>\n",
       "  <tbody>\n",
       "    <tr>\n",
       "      <th>11993</th>\n",
       "      <td>11</td>\n",
       "      <td>26.614719</td>\n",
       "      <td>39.364621</td>\n",
       "      <td>122</td>\n",
       "      <td>6</td>\n",
       "      <td>3</td>\n",
       "      <td>2.606679</td>\n",
       "      <td>2.164048</td>\n",
       "      <td>Cat</td>\n",
       "      <td>Small</td>\n",
       "      <td>Not up-to-date</td>\n",
       "      <td>group_0</td>\n",
       "      <td>Obesity</td>\n",
       "    </tr>\n",
       "    <tr>\n",
       "      <th>11994</th>\n",
       "      <td>15</td>\n",
       "      <td>9.944709</td>\n",
       "      <td>37.799509</td>\n",
       "      <td>61</td>\n",
       "      <td>1</td>\n",
       "      <td>3</td>\n",
       "      <td>2.017632</td>\n",
       "      <td>4.960402</td>\n",
       "      <td>Dog</td>\n",
       "      <td>Medium</td>\n",
       "      <td>Not up-to-date</td>\n",
       "      <td>group_1</td>\n",
       "      <td>Obesity</td>\n",
       "    </tr>\n",
       "    <tr>\n",
       "      <th>11995</th>\n",
       "      <td>3</td>\n",
       "      <td>28.075277</td>\n",
       "      <td>36.438101</td>\n",
       "      <td>172</td>\n",
       "      <td>3</td>\n",
       "      <td>1</td>\n",
       "      <td>0.929848</td>\n",
       "      <td>4.703767</td>\n",
       "      <td>Cat</td>\n",
       "      <td>Small</td>\n",
       "      <td>Not up-to-date</td>\n",
       "      <td>group_1</td>\n",
       "      <td>Obesity</td>\n",
       "    </tr>\n",
       "    <tr>\n",
       "      <th>11996</th>\n",
       "      <td>6</td>\n",
       "      <td>31.510742</td>\n",
       "      <td>36.579686</td>\n",
       "      <td>155</td>\n",
       "      <td>7</td>\n",
       "      <td>2</td>\n",
       "      <td>2.798863</td>\n",
       "      <td>3.103848</td>\n",
       "      <td>Dog</td>\n",
       "      <td>Medium</td>\n",
       "      <td>Not up-to-date</td>\n",
       "      <td>group_0</td>\n",
       "      <td>Obesity</td>\n",
       "    </tr>\n",
       "    <tr>\n",
       "      <th>11997</th>\n",
       "      <td>5</td>\n",
       "      <td>31.671382</td>\n",
       "      <td>39.187926</td>\n",
       "      <td>175</td>\n",
       "      <td>5</td>\n",
       "      <td>4</td>\n",
       "      <td>2.258787</td>\n",
       "      <td>0.275499</td>\n",
       "      <td>Cat</td>\n",
       "      <td>Small</td>\n",
       "      <td>Up-to-date</td>\n",
       "      <td>group_0</td>\n",
       "      <td>Obesity</td>\n",
       "    </tr>\n",
       "    <tr>\n",
       "      <th>11998</th>\n",
       "      <td>4</td>\n",
       "      <td>5.753224</td>\n",
       "      <td>39.645233</td>\n",
       "      <td>69</td>\n",
       "      <td>3</td>\n",
       "      <td>2</td>\n",
       "      <td>0.742761</td>\n",
       "      <td>2.544635</td>\n",
       "      <td>Dog</td>\n",
       "      <td>Medium</td>\n",
       "      <td>Up-to-date</td>\n",
       "      <td>group_0</td>\n",
       "      <td>Obesity</td>\n",
       "    </tr>\n",
       "    <tr>\n",
       "      <th>11999</th>\n",
       "      <td>15</td>\n",
       "      <td>15.839399</td>\n",
       "      <td>37.318812</td>\n",
       "      <td>142</td>\n",
       "      <td>1</td>\n",
       "      <td>4</td>\n",
       "      <td>2.095036</td>\n",
       "      <td>4.689649</td>\n",
       "      <td>Dog</td>\n",
       "      <td>Large</td>\n",
       "      <td>Up-to-date</td>\n",
       "      <td>group_0</td>\n",
       "      <td>Obesity</td>\n",
       "    </tr>\n",
       "  </tbody>\n",
       "</table>\n",
       "</div>"
      ],
      "text/plain": [
       "       Age     Weight  Temperature  Heart_Rate  Activity_Level  Eating_Habits  \\\n",
       "11993   11  26.614719    39.364621         122               6              3   \n",
       "11994   15   9.944709    37.799509          61               1              3   \n",
       "11995    3  28.075277    36.438101         172               3              1   \n",
       "11996    6  31.510742    36.579686         155               7              2   \n",
       "11997    5  31.671382    39.187926         175               5              4   \n",
       "11998    4   5.753224    39.645233          69               3              2   \n",
       "11999   15  15.839399    37.318812         142               1              4   \n",
       "\n",
       "       Hydration  Exercise_Hours Pet_Type Breed_Category Vaccination_Status  \\\n",
       "11993   2.606679        2.164048      Cat          Small     Not up-to-date   \n",
       "11994   2.017632        4.960402      Dog         Medium     Not up-to-date   \n",
       "11995   0.929848        4.703767      Cat          Small     Not up-to-date   \n",
       "11996   2.798863        3.103848      Dog         Medium     Not up-to-date   \n",
       "11997   2.258787        0.275499      Cat          Small         Up-to-date   \n",
       "11998   0.742761        2.544635      Dog         Medium         Up-to-date   \n",
       "11999   2.095036        4.689649      Dog          Large         Up-to-date   \n",
       "\n",
       "          Sick     sick  \n",
       "11993  group_0  Obesity  \n",
       "11994  group_1  Obesity  \n",
       "11995  group_1  Obesity  \n",
       "11996  group_0  Obesity  \n",
       "11997  group_0  Obesity  \n",
       "11998  group_0  Obesity  \n",
       "11999  group_0  Obesity  "
      ]
     },
     "execution_count": 8,
     "metadata": {},
     "output_type": "execute_result"
    }
   ],
   "source": [
    "# Show the last Required Rows from Dataset\n",
    "df.tail(7)"
   ]
  },
  {
   "cell_type": "code",
   "execution_count": 9,
   "id": "eb43f3a1-737b-46c0-a431-5d6f18e6e279",
   "metadata": {},
   "outputs": [
    {
     "data": {
      "text/plain": [
       "(12000, 13)"
      ]
     },
     "execution_count": 9,
     "metadata": {},
     "output_type": "execute_result"
    }
   ],
   "source": [
    "# Show Numbers of (Columns,Rows)\n",
    "df.shape"
   ]
  },
  {
   "cell_type": "code",
   "execution_count": null,
   "id": "ef0cf05a",
   "metadata": {},
   "outputs": [],
   "source": []
  },
  {
   "cell_type": "code",
   "execution_count": 10,
   "id": "0c3b90df-3282-48f7-abbf-a37c558e188c",
   "metadata": {},
   "outputs": [
    {
     "name": "stdout",
     "output_type": "stream",
     "text": [
      "<class 'pandas.core.frame.DataFrame'>\n",
      "RangeIndex: 12000 entries, 0 to 11999\n",
      "Data columns (total 13 columns):\n",
      " #   Column              Non-Null Count  Dtype  \n",
      "---  ------              --------------  -----  \n",
      " 0   Age                 12000 non-null  int64  \n",
      " 1   Weight              12000 non-null  float64\n",
      " 2   Temperature         12000 non-null  float64\n",
      " 3   Heart_Rate          12000 non-null  int64  \n",
      " 4   Activity_Level      12000 non-null  int64  \n",
      " 5   Eating_Habits       12000 non-null  int64  \n",
      " 6   Hydration           12000 non-null  float64\n",
      " 7   Exercise_Hours      12000 non-null  float64\n",
      " 8   Pet_Type            12000 non-null  object \n",
      " 9   Breed_Category      12000 non-null  object \n",
      " 10  Vaccination_Status  12000 non-null  object \n",
      " 11  Sick                12000 non-null  object \n",
      " 12  sick                12000 non-null  object \n",
      "dtypes: float64(4), int64(4), object(5)\n",
      "memory usage: 1.2+ MB\n"
     ]
    }
   ],
   "source": [
    "#Show the Data Type for each Features(Columns)\n",
    "df.info()"
   ]
  },
  {
   "cell_type": "code",
   "execution_count": 11,
   "id": "6c70ba29-0bae-4121-9e88-fcdfd049350a",
   "metadata": {},
   "outputs": [
    {
     "data": {
      "text/plain": [
       "Age                   0\n",
       "Weight                0\n",
       "Temperature           0\n",
       "Heart_Rate            0\n",
       "Activity_Level        0\n",
       "Eating_Habits         0\n",
       "Hydration             0\n",
       "Exercise_Hours        0\n",
       "Pet_Type              0\n",
       "Breed_Category        0\n",
       "Vaccination_Status    0\n",
       "Sick                  0\n",
       "sick                  0\n",
       "dtype: int64"
      ]
     },
     "execution_count": 11,
     "metadata": {},
     "output_type": "execute_result"
    }
   ],
   "source": [
    "# Using PreProcessing\n",
    "df.isnull().sum()"
   ]
  },
  {
   "cell_type": "code",
   "execution_count": 12,
   "id": "bca2bf07-ece8-45a3-a4b8-c4c267fa0d4b",
   "metadata": {},
   "outputs": [
    {
     "data": {
      "text/html": [
       "<div>\n",
       "<style scoped>\n",
       "    .dataframe tbody tr th:only-of-type {\n",
       "        vertical-align: middle;\n",
       "    }\n",
       "\n",
       "    .dataframe tbody tr th {\n",
       "        vertical-align: top;\n",
       "    }\n",
       "\n",
       "    .dataframe thead th {\n",
       "        text-align: right;\n",
       "    }\n",
       "</style>\n",
       "<table border=\"1\" class=\"dataframe\">\n",
       "  <thead>\n",
       "    <tr style=\"text-align: right;\">\n",
       "      <th></th>\n",
       "      <th>Age</th>\n",
       "      <th>Weight</th>\n",
       "      <th>Temperature</th>\n",
       "      <th>Heart_Rate</th>\n",
       "      <th>Activity_Level</th>\n",
       "      <th>Eating_Habits</th>\n",
       "      <th>Hydration</th>\n",
       "      <th>Exercise_Hours</th>\n",
       "    </tr>\n",
       "  </thead>\n",
       "  <tbody>\n",
       "    <tr>\n",
       "      <th>count</th>\n",
       "      <td>12000.000000</td>\n",
       "      <td>12000.000000</td>\n",
       "      <td>12000.000000</td>\n",
       "      <td>12000.000000</td>\n",
       "      <td>12000.000000</td>\n",
       "      <td>12000.00000</td>\n",
       "      <td>12000.000000</td>\n",
       "      <td>12000.000000</td>\n",
       "    </tr>\n",
       "    <tr>\n",
       "      <th>mean</th>\n",
       "      <td>10.093833</td>\n",
       "      <td>21.216318</td>\n",
       "      <td>37.994930</td>\n",
       "      <td>119.489167</td>\n",
       "      <td>5.008833</td>\n",
       "      <td>2.50575</td>\n",
       "      <td>1.757320</td>\n",
       "      <td>2.498669</td>\n",
       "    </tr>\n",
       "    <tr>\n",
       "      <th>std</th>\n",
       "      <td>5.491649</td>\n",
       "      <td>11.000108</td>\n",
       "      <td>1.148218</td>\n",
       "      <td>34.937734</td>\n",
       "      <td>2.571505</td>\n",
       "      <td>1.12468</td>\n",
       "      <td>0.724723</td>\n",
       "      <td>1.451141</td>\n",
       "    </tr>\n",
       "    <tr>\n",
       "      <th>min</th>\n",
       "      <td>1.000000</td>\n",
       "      <td>2.001829</td>\n",
       "      <td>36.000022</td>\n",
       "      <td>60.000000</td>\n",
       "      <td>1.000000</td>\n",
       "      <td>1.00000</td>\n",
       "      <td>0.500119</td>\n",
       "      <td>0.000730</td>\n",
       "    </tr>\n",
       "    <tr>\n",
       "      <th>25%</th>\n",
       "      <td>5.000000</td>\n",
       "      <td>11.738985</td>\n",
       "      <td>36.997342</td>\n",
       "      <td>89.000000</td>\n",
       "      <td>3.000000</td>\n",
       "      <td>1.00000</td>\n",
       "      <td>1.133028</td>\n",
       "      <td>1.243827</td>\n",
       "    </tr>\n",
       "    <tr>\n",
       "      <th>50%</th>\n",
       "      <td>10.000000</td>\n",
       "      <td>21.294657</td>\n",
       "      <td>38.001309</td>\n",
       "      <td>119.000000</td>\n",
       "      <td>5.000000</td>\n",
       "      <td>2.00000</td>\n",
       "      <td>1.748297</td>\n",
       "      <td>2.477061</td>\n",
       "    </tr>\n",
       "    <tr>\n",
       "      <th>75%</th>\n",
       "      <td>15.000000</td>\n",
       "      <td>30.780323</td>\n",
       "      <td>38.973135</td>\n",
       "      <td>150.000000</td>\n",
       "      <td>7.000000</td>\n",
       "      <td>4.00000</td>\n",
       "      <td>2.397152</td>\n",
       "      <td>3.766403</td>\n",
       "    </tr>\n",
       "    <tr>\n",
       "      <th>max</th>\n",
       "      <td>19.000000</td>\n",
       "      <td>39.997143</td>\n",
       "      <td>39.999157</td>\n",
       "      <td>179.000000</td>\n",
       "      <td>9.000000</td>\n",
       "      <td>4.00000</td>\n",
       "      <td>2.999738</td>\n",
       "      <td>4.999465</td>\n",
       "    </tr>\n",
       "  </tbody>\n",
       "</table>\n",
       "</div>"
      ],
      "text/plain": [
       "                Age        Weight   Temperature    Heart_Rate  Activity_Level  \\\n",
       "count  12000.000000  12000.000000  12000.000000  12000.000000    12000.000000   \n",
       "mean      10.093833     21.216318     37.994930    119.489167        5.008833   \n",
       "std        5.491649     11.000108      1.148218     34.937734        2.571505   \n",
       "min        1.000000      2.001829     36.000022     60.000000        1.000000   \n",
       "25%        5.000000     11.738985     36.997342     89.000000        3.000000   \n",
       "50%       10.000000     21.294657     38.001309    119.000000        5.000000   \n",
       "75%       15.000000     30.780323     38.973135    150.000000        7.000000   \n",
       "max       19.000000     39.997143     39.999157    179.000000        9.000000   \n",
       "\n",
       "       Eating_Habits     Hydration  Exercise_Hours  \n",
       "count    12000.00000  12000.000000    12000.000000  \n",
       "mean         2.50575      1.757320        2.498669  \n",
       "std          1.12468      0.724723        1.451141  \n",
       "min          1.00000      0.500119        0.000730  \n",
       "25%          1.00000      1.133028        1.243827  \n",
       "50%          2.00000      1.748297        2.477061  \n",
       "75%          4.00000      2.397152        3.766403  \n",
       "max          4.00000      2.999738        4.999465  "
      ]
     },
     "execution_count": 12,
     "metadata": {},
     "output_type": "execute_result"
    }
   ],
   "source": [
    "# Show Statistic For each Feature\n",
    "df.describe()"
   ]
  },
  {
   "cell_type": "code",
   "execution_count": 13,
   "id": "547d6ac9-73bc-4a95-830c-0bce54e59d65",
   "metadata": {},
   "outputs": [
    {
     "data": {
      "text/plain": [
       "Pet_Type\n",
       "Dog    6008\n",
       "Cat    5992\n",
       "Name: count, dtype: int64"
      ]
     },
     "execution_count": 13,
     "metadata": {},
     "output_type": "execute_result"
    }
   ],
   "source": [
    "# Count the occurrences of each pet type in the \"Pet_Type\" column\n",
    "df[\"Pet_Type\"].value_counts()"
   ]
  },
  {
   "cell_type": "code",
   "execution_count": 14,
   "id": "4de49e24-1a72-4422-b882-c89230dabe11",
   "metadata": {},
   "outputs": [
    {
     "data": {
      "text/plain": [
       "Pet_Type  Vaccination_Status\n",
       "Dog       Up-to-date            3122\n",
       "Cat       Not up-to-date        2996\n",
       "          Up-to-date            2996\n",
       "Dog       Not up-to-date        2886\n",
       "Name: count, dtype: int64"
      ]
     },
     "execution_count": 14,
     "metadata": {},
     "output_type": "execute_result"
    }
   ],
   "source": [
    "df[[\"Pet_Type\",\"Vaccination_Status\"]].value_counts()"
   ]
  },
  {
   "cell_type": "code",
   "execution_count": 15,
   "id": "b30d4b51-360f-4bc9-b785-7e4214191b27",
   "metadata": {},
   "outputs": [
    {
     "data": {
      "text/plain": [
       "Sick\n",
       "group_0    8350\n",
       "group_1    3650\n",
       "Name: count, dtype: int64"
      ]
     },
     "execution_count": 15,
     "metadata": {},
     "output_type": "execute_result"
    }
   ],
   "source": [
    "# Caculate the numbers of Achieving Sick\n",
    "df[\"Sick\"].value_counts()"
   ]
  },
  {
   "cell_type": "code",
   "execution_count": 16,
   "id": "ef0645fd-7de9-491e-89bb-d8546ae0346d",
   "metadata": {},
   "outputs": [
    {
     "data": {
      "image/png": "[encoded data removed]",
      "text/plain": [
       "<Figure size 2000x1000 with 9 Axes>"
      ]
     },
     "metadata": {},
     "output_type": "display_data"
    }
   ],
   "source": [
    "# Using Histogram\n",
    "df.hist(bins=40, figsize=(20, 10),color='Purple', edgecolor='black')\n",
    "plt.show()"
   ]
  },
  {
   "cell_type": "code",
   "execution_count": 17,
   "id": "6637cc37-34d3-4a54-9e51-30a0fe859688",
   "metadata": {},
   "outputs": [
    {
     "name": "stderr",
     "output_type": "stream",
     "text": [
      "C:\\Users\\RAM\\AppData\\Local\\Temp\\ipykernel_30200\\1770867664.py:11: FutureWarning: \n",
      "\n",
      "Passing `palette` without assigning `hue` is deprecated and will be removed in v0.14.0. Assign the `y` variable to `hue` and set `legend=False` for the same effect.\n",
      "\n",
      "  ax = sns.countplot(data=df, y=col, order=df[col].value_counts().index,\n",
      "C:\\Users\\RAM\\AppData\\Local\\Temp\\ipykernel_30200\\1770867664.py:11: FutureWarning: \n",
      "\n",
      "Passing `palette` without assigning `hue` is deprecated and will be removed in v0.14.0. Assign the `y` variable to `hue` and set `legend=False` for the same effect.\n",
      "\n",
      "  ax = sns.countplot(data=df, y=col, order=df[col].value_counts().index,\n",
      "C:\\Users\\RAM\\AppData\\Local\\Temp\\ipykernel_30200\\1770867664.py:11: FutureWarning: \n",
      "\n",
      "Passing `palette` without assigning `hue` is deprecated and will be removed in v0.14.0. Assign the `y` variable to `hue` and set `legend=False` for the same effect.\n",
      "\n",
      "  ax = sns.countplot(data=df, y=col, order=df[col].value_counts().index,\n",
      "C:\\Users\\RAM\\AppData\\Local\\Temp\\ipykernel_30200\\1770867664.py:11: FutureWarning: \n",
      "\n",
      "Passing `palette` without assigning `hue` is deprecated and will be removed in v0.14.0. Assign the `y` variable to `hue` and set `legend=False` for the same effect.\n",
      "\n",
      "  ax = sns.countplot(data=df, y=col, order=df[col].value_counts().index,\n"
     ]
    },
    {
     "data": {
      "image/png": "[encoded data removed]",
      "text/plain": [
       "<Figure size 1200x800 with 4 Axes>"
      ]
     },
     "metadata": {},
     "output_type": "display_data"
    }
   ],
   "source": [
    "# Using Countplot\n",
    "import matplotlib.pyplot as plt\n",
    "import seaborn as sns\n",
    "\n",
    "plt.figure(figsize=(12, 8))\n",
    "columns = ['Pet_Type', 'Breed_Category', 'Vaccination_Status', 'Eating_Habits']\n",
    "\n",
    "# Drow Countplot for Each Column\n",
    "for i, col in enumerate(columns):\n",
    "    plt.subplot(2, len(columns) // 2, i + 1)\n",
    "    ax = sns.countplot(data=df, y=col, order=df[col].value_counts().index,\n",
    "                       palette=\"pastel\", edgecolor=\"black\")\n",
    "\n",
    "    # Calculate Percentage\n",
    "    total = len(df)\n",
    "    for p in ax.patches:\n",
    "        width = p.get_width()  # Use width for horizontal bars\n",
    "        height = p.get_height()\n",
    "        percentage = (width / total) * 100  # Calculate percentage based on width\n",
    "        ax.text(width + 2, p.get_y() + height / 2, f'{percentage:.1f}%',\n",
    "                va=\"center\", fontsize=13, color=\"black\")  # Use va=\"center\" for vertical alignment\n",
    "\n",
    "    plt.ylabel(col, fontsize=12)\n",
    "    plt.xlabel(\"Count\", fontsize=12)\n",
    "    plt.title(f\"Distribution of {col}\", fontsize=14)\n",
    "    plt.yticks(rotation=45)\n",
    "\n",
    "plt.tight_layout()\n",
    "plt.show()"
   ]
  },
  {
   "cell_type": "code",
   "execution_count": 18,
   "id": "b07b7e82-62d5-49cc-9152-aacdf9f732d5",
   "metadata": {},
   "outputs": [
    {
     "data": {
      "image/png": "[encoded data removed]",
      "text/plain": [
       "<Figure size 640x480 with 1 Axes>"
      ]
     },
     "metadata": {},
     "output_type": "display_data"
    }
   ],
   "source": [
    "# Boxplot for (EstimatedSalary)\n",
    "sns.boxplot(data=df,x='Pet_Type', y='Weight')\n",
    "plt.show() "
   ]
  },
  {
   "cell_type": "code",
   "execution_count": 19,
   "id": "67920cfa-e239-4a3a-8ad9-30a9a9bccf05",
   "metadata": {},
   "outputs": [
    {
     "data": {
      "image/png": "[encoded data removed]",
      "text/plain": [
       "<Figure size 640x480 with 1 Axes>"
      ]
     },
     "metadata": {},
     "output_type": "display_data"
    }
   ],
   "source": [
    "# Using Pie Chart\n",
    "counts = df['Sick'].value_counts()\n",
    "\n",
    "plt.pie(counts, labels=['0 \"UnSick\"', '1 \"Sick\"'], autopct='%1.1f%%')\n",
    "plt.title('Percentage of Pet State')\n",
    "plt.show()"
   ]
  },
  {
   "cell_type": "code",
   "execution_count": 20,
   "id": "226fdfee",
   "metadata": {},
   "outputs": [],
   "source": [
    "df.drop(columns=\"Sick\",inplace=True,axis=1)"
   ]
  },
  {
   "cell_type": "code",
   "execution_count": 21,
   "id": "5e75b5a2",
   "metadata": {},
   "outputs": [
    {
     "data": {
      "text/html": [
       "<div>\n",
       "<style scoped>\n",
       "    .dataframe tbody tr th:only-of-type {\n",
       "        vertical-align: middle;\n",
       "    }\n",
       "\n",
       "    .dataframe tbody tr th {\n",
       "        vertical-align: top;\n",
       "    }\n",
       "\n",
       "    .dataframe thead th {\n",
       "        text-align: right;\n",
       "    }\n",
       "</style>\n",
       "<table border=\"1\" class=\"dataframe\">\n",
       "  <thead>\n",
       "    <tr style=\"text-align: right;\">\n",
       "      <th></th>\n",
       "      <th>Age</th>\n",
       "      <th>Weight</th>\n",
       "      <th>Temperature</th>\n",
       "      <th>Heart_Rate</th>\n",
       "      <th>Activity_Level</th>\n",
       "      <th>Eating_Habits</th>\n",
       "      <th>Hydration</th>\n",
       "      <th>Exercise_Hours</th>\n",
       "      <th>Pet_Type</th>\n",
       "      <th>Breed_Category</th>\n",
       "      <th>Vaccination_Status</th>\n",
       "      <th>sick</th>\n",
       "    </tr>\n",
       "  </thead>\n",
       "  <tbody>\n",
       "    <tr>\n",
       "      <th>0</th>\n",
       "      <td>18</td>\n",
       "      <td>27.002131</td>\n",
       "      <td>37.072971</td>\n",
       "      <td>151</td>\n",
       "      <td>1</td>\n",
       "      <td>4</td>\n",
       "      <td>1.456332</td>\n",
       "      <td>2.912025</td>\n",
       "      <td>Cat</td>\n",
       "      <td>Medium</td>\n",
       "      <td>Not up-to-date</td>\n",
       "      <td>Rabies</td>\n",
       "    </tr>\n",
       "    <tr>\n",
       "      <th>1</th>\n",
       "      <td>4</td>\n",
       "      <td>5.727586</td>\n",
       "      <td>38.406675</td>\n",
       "      <td>84</td>\n",
       "      <td>6</td>\n",
       "      <td>3</td>\n",
       "      <td>1.476085</td>\n",
       "      <td>1.115939</td>\n",
       "      <td>Cat</td>\n",
       "      <td>Large</td>\n",
       "      <td>Up-to-date</td>\n",
       "      <td>Rabies</td>\n",
       "    </tr>\n",
       "    <tr>\n",
       "      <th>2</th>\n",
       "      <td>4</td>\n",
       "      <td>23.854278</td>\n",
       "      <td>39.749597</td>\n",
       "      <td>67</td>\n",
       "      <td>5</td>\n",
       "      <td>3</td>\n",
       "      <td>1.696218</td>\n",
       "      <td>2.861636</td>\n",
       "      <td>Dog</td>\n",
       "      <td>Medium</td>\n",
       "      <td>Up-to-date</td>\n",
       "      <td>Rabies</td>\n",
       "    </tr>\n",
       "    <tr>\n",
       "      <th>3</th>\n",
       "      <td>6</td>\n",
       "      <td>25.229610</td>\n",
       "      <td>36.028772</td>\n",
       "      <td>144</td>\n",
       "      <td>9</td>\n",
       "      <td>1</td>\n",
       "      <td>2.053697</td>\n",
       "      <td>0.138554</td>\n",
       "      <td>Dog</td>\n",
       "      <td>Small</td>\n",
       "      <td>Not up-to-date</td>\n",
       "      <td>Rabies</td>\n",
       "    </tr>\n",
       "    <tr>\n",
       "      <th>4</th>\n",
       "      <td>1</td>\n",
       "      <td>12.835061</td>\n",
       "      <td>36.980476</td>\n",
       "      <td>146</td>\n",
       "      <td>9</td>\n",
       "      <td>3</td>\n",
       "      <td>1.336203</td>\n",
       "      <td>3.913909</td>\n",
       "      <td>Cat</td>\n",
       "      <td>Medium</td>\n",
       "      <td>Not up-to-date</td>\n",
       "      <td>Rabies</td>\n",
       "    </tr>\n",
       "  </tbody>\n",
       "</table>\n",
       "</div>"
      ],
      "text/plain": [
       "   Age     Weight  Temperature  Heart_Rate  Activity_Level  Eating_Habits  \\\n",
       "0   18  27.002131    37.072971         151               1              4   \n",
       "1    4   5.727586    38.406675          84               6              3   \n",
       "2    4  23.854278    39.749597          67               5              3   \n",
       "3    6  25.229610    36.028772         144               9              1   \n",
       "4    1  12.835061    36.980476         146               9              3   \n",
       "\n",
       "   Hydration  Exercise_Hours Pet_Type Breed_Category Vaccination_Status  \\\n",
       "0   1.456332        2.912025      Cat         Medium     Not up-to-date   \n",
       "1   1.476085        1.115939      Cat          Large         Up-to-date   \n",
       "2   1.696218        2.861636      Dog         Medium         Up-to-date   \n",
       "3   2.053697        0.138554      Dog          Small     Not up-to-date   \n",
       "4   1.336203        3.913909      Cat         Medium     Not up-to-date   \n",
       "\n",
       "     sick  \n",
       "0  Rabies  \n",
       "1  Rabies  \n",
       "2  Rabies  \n",
       "3  Rabies  \n",
       "4  Rabies  "
      ]
     },
     "execution_count": 21,
     "metadata": {},
     "output_type": "execute_result"
    }
   ],
   "source": [
    "df.head()"
   ]
  },
  {
   "cell_type": "code",
   "execution_count": 22,
   "id": "7fce2800",
   "metadata": {},
   "outputs": [
    {
     "data": {
      "image/png": "[encoded data removed]",
      "text/plain": [
       "<Figure size 640x480 with 1 Axes>"
      ]
     },
     "metadata": {},
     "output_type": "display_data"
    }
   ],
   "source": [
    "sns.countplot(data=df,x='sick')\n",
    "plt.show()"
   ]
  },
  {
   "cell_type": "code",
   "execution_count": 23,
   "id": "e290f6f3-ee35-4fa7-b76e-384bd09f6288",
   "metadata": {},
   "outputs": [],
   "source": [
    "# Splitting (input & output)\n",
    "X = df.drop(columns=\"sick\",axis=1)\n",
    "Y = df[\"sick\"]"
   ]
  },
  {
   "cell_type": "code",
   "execution_count": 24,
   "id": "8c67711b-ccb0-4941-8299-08ded7fe9e8c",
   "metadata": {},
   "outputs": [
    {
     "name": "stdout",
     "output_type": "stream",
     "text": [
      "       Age     Weight  Temperature  Heart_Rate  Activity_Level  Eating_Habits  \\\n",
      "0       18  27.002131    37.072971         151               1              4   \n",
      "1        4   5.727586    38.406675          84               6              3   \n",
      "2        4  23.854278    39.749597          67               5              3   \n",
      "3        6  25.229610    36.028772         144               9              1   \n",
      "4        1  12.835061    36.980476         146               9              3   \n",
      "...    ...        ...          ...         ...             ...            ...   \n",
      "11995    3  28.075277    36.438101         172               3              1   \n",
      "11996    6  31.510742    36.579686         155               7              2   \n",
      "11997    5  31.671382    39.187926         175               5              4   \n",
      "11998    4   5.753224    39.645233          69               3              2   \n",
      "11999   15  15.839399    37.318812         142               1              4   \n",
      "\n",
      "       Hydration  Exercise_Hours Pet_Type Breed_Category Vaccination_Status  \n",
      "0       1.456332        2.912025      Cat         Medium     Not up-to-date  \n",
      "1       1.476085        1.115939      Cat          Large         Up-to-date  \n",
      "2       1.696218        2.861636      Dog         Medium         Up-to-date  \n",
      "3       2.053697        0.138554      Dog          Small     Not up-to-date  \n",
      "4       1.336203        3.913909      Cat         Medium     Not up-to-date  \n",
      "...          ...             ...      ...            ...                ...  \n",
      "11995   0.929848        4.703767      Cat          Small     Not up-to-date  \n",
      "11996   2.798863        3.103848      Dog         Medium     Not up-to-date  \n",
      "11997   2.258787        0.275499      Cat          Small         Up-to-date  \n",
      "11998   0.742761        2.544635      Dog         Medium         Up-to-date  \n",
      "11999   2.095036        4.689649      Dog          Large         Up-to-date  \n",
      "\n",
      "[12000 rows x 11 columns]\n"
     ]
    }
   ],
   "source": [
    "print (X)"
   ]
  },
  {
   "cell_type": "code",
   "execution_count": 25,
   "id": "febb0ca4-dcb1-42a2-96d4-c2e82b7806c7",
   "metadata": {},
   "outputs": [
    {
     "name": "stdout",
     "output_type": "stream",
     "text": [
      "0         Rabies\n",
      "1         Rabies\n",
      "2         Rabies\n",
      "3         Rabies\n",
      "4         Rabies\n",
      "          ...   \n",
      "11995    Obesity\n",
      "11996    Obesity\n",
      "11997    Obesity\n",
      "11998    Obesity\n",
      "11999    Obesity\n",
      "Name: sick, Length: 12000, dtype: object\n"
     ]
    }
   ],
   "source": [
    "print (Y)"
   ]
  },
  {
   "cell_type": "code",
   "execution_count": 26,
   "id": "04e7c4e2-fcda-44ae-bb53-3e476f67d586",
   "metadata": {},
   "outputs": [],
   "source": [
    "# Encode categorical columns\n",
    "label_encoders = {}\n",
    "categorical_columns = ['Pet_Type', 'Breed_Category', 'Vaccination_Status']\n",
    "\n",
    "for col in categorical_columns:\n",
    "    le = LabelEncoder()\n",
    "    X.loc[:, col] = le.fit_transform(X[col])\n",
    "    X[col] = X[col].astype(int)  # تحويل العمود إلى نوع int بشكل صريح\n",
    "    label_encoders[col] = le"
   ]
  },
  {
   "cell_type": "code",
   "execution_count": 27,
   "id": "170ec7e1-bbe2-4d1d-9bce-f45349f360bd",
   "metadata": {},
   "outputs": [],
   "source": [
    "# Process Data Imbalance "
   ]
  },
  {
   "cell_type": "code",
   "execution_count": 28,
   "id": "56da445b-9a29-4c86-82bd-c6068a85e7af",
   "metadata": {},
   "outputs": [],
   "source": [
    "#  Frist Step\n",
    "# Splitting Data into (Test & Training) with Stratified Sampling\n",
    "splitter= StratifiedShuffleSplit(n_splits=1, test_size=0.3, random_state=42)\n",
    "for train_index, test_index in splitter.split(X, Y):\n",
    "    X_train, X_test = X.iloc[train_index], X.iloc[test_index]\n",
    "    Y_train, Y_test = Y.iloc[train_index], Y.iloc[test_index]"
   ]
  },
  {
   "cell_type": "code",
   "execution_count": 29,
   "id": "1fe68ab0-2d9e-4a3b-b434-c2b38ae3d69c",
   "metadata": {},
   "outputs": [
    {
     "name": "stdout",
     "output_type": "stream",
     "text": [
      "(12000, 11) (8400, 11) (3600, 11)\n"
     ]
    }
   ],
   "source": [
    "print(X.shape,X_train.shape,X_test.shape)"
   ]
  },
  {
   "cell_type": "code",
   "execution_count": 30,
   "id": "d5c21c65-b5f8-4624-b3d9-68ce6660bae3",
   "metadata": {},
   "outputs": [
    {
     "name": "stdout",
     "output_type": "stream",
     "text": [
      "(12000,) (8400,) (3600,)\n"
     ]
    }
   ],
   "source": [
    "print(Y.shape,Y_train.shape,Y_test.shape)"
   ]
  },
  {
   "cell_type": "code",
   "execution_count": 31,
   "id": "503c07f6-4103-423d-97c1-1697a1fcf2b4",
   "metadata": {},
   "outputs": [],
   "source": [
    "#  Second Step(Resampling)\n",
    "# Oversampling\n",
    "smote = SMOTE(random_state=42)\n",
    "X_train_resampled, Y_train_resampled = smote.fit_resample(X_train, Y_train)"
   ]
  },
  {
   "cell_type": "code",
   "execution_count": 32,
   "id": "41bba99a-00d2-4b0c-a876-91b64249b9ce",
   "metadata": {},
   "outputs": [],
   "source": [
    "# Undersampling\n",
    "undersampler = RandomUnderSampler(random_state=42)\n",
    "X_train_resampled, Y_train_resampled = undersampler.fit_resample(X_train, Y_train)"
   ]
  },
  {
   "cell_type": "code",
   "execution_count": 26,
   "id": "810c53e0-57cb-4aaf-bef5-7381fce76a54",
   "metadata": {},
   "outputs": [
    {
     "name": "stdout",
     "output_type": "stream",
     "text": [
      "Collecting xgboost\n",
      "  Downloading xgboost-3.0.0.tar.gz (1.2 MB)\n",
      "     ---------------------------------------- 0.0/1.2 MB ? eta -:--:--\n",
      "     ---------------------------------------- 0.0/1.2 MB ? eta -:--:--\n",
      "     ---------------------------------------- 0.0/1.2 MB ? eta -:--:--\n",
      "     --------- ------------------------------ 0.3/1.2 MB ? eta -:--:--\n",
      "     --------- ------------------------------ 0.3/1.2 MB ? eta -:--:--\n",
      "     --------------------------- ------------ 0.8/1.2 MB 1.4 MB/s eta 0:00:01\n",
      "     ------------------------------------ --- 1.0/1.2 MB 1.4 MB/s eta 0:00:01\n",
      "     ---------------------------------------- 1.2/1.2 MB 1.3 MB/s eta 0:00:00\n",
      "  Installing build dependencies: started\n",
      "  Installing build dependencies: finished with status 'done'\n",
      "  Getting requirements to build wheel: started\n",
      "  Getting requirements to build wheel: finished with status 'done'\n",
      "  Preparing metadata (pyproject.toml): started\n",
      "  Preparing metadata (pyproject.toml): finished with status 'error'\n"
     ]
    },
    {
     "name": "stderr",
     "output_type": "stream",
     "text": [
      "  error: subprocess-exited-with-error\n",
      "  \n",
      "  × Preparing metadata (pyproject.toml) did not run successfully.\n",
      "  │ exit code: 1\n",
      "  ╰─> [39 lines of output]\n",
      "      INFO:xgboost.packager.build_wheel:Parsed build configuration: {'hide_cxx_symbols': True, 'use_openmp': True, 'use_cuda': False, 'use_nccl': False, 'use_dlopen_nccl': False, 'plugin_federated': False, 'plugin_rmm': False, 'use_system_libxgboost': False}\n",
      "      INFO:xgboost.packager.build_wheel:Copying project files to temporary directory C:\\Users\\RAM\\AppData\\Local\\Temp\\tmpwp8rbwjf\\whl_workspace\n",
      "      INFO:xgboost.packager.build_wheel:Copying C:\\Users\\RAM\\AppData\\Local\\Temp\\pip-install-_45fzl1f\\xgboost_375b5e799de14531948656ee01e8e141\\pyproject.toml -> C:\\Users\\RAM\\AppData\\Local\\Temp\\tmpwp8rbwjf\\whl_workspace\\pyproject.toml\n",
      "      INFO:xgboost.packager.build_wheel:Copying C:\\Users\\RAM\\AppData\\Local\\Temp\\pip-install-_45fzl1f\\xgboost_375b5e799de14531948656ee01e8e141\\hatch_build.py -> C:\\Users\\RAM\\AppData\\Local\\Temp\\tmpwp8rbwjf\\whl_workspace\\hatch_build.py\n",
      "      INFO:xgboost.packager.build_wheel:Copying C:\\Users\\RAM\\AppData\\Local\\Temp\\pip-install-_45fzl1f\\xgboost_375b5e799de14531948656ee01e8e141\\README.rst -> C:\\Users\\RAM\\AppData\\Local\\Temp\\tmpwp8rbwjf\\whl_workspace\\README.rst\n",
      "      INFO:xgboost.packager.build_wheel:Copying C:\\Users\\RAM\\AppData\\Local\\Temp\\pip-install-_45fzl1f\\xgboost_375b5e799de14531948656ee01e8e141\\xgboost -> C:\\Users\\RAM\\AppData\\Local\\Temp\\tmpwp8rbwjf\\whl_workspace\\xgboost\n",
      "      INFO:xgboost.packager.build_libxgboost:Building xgboost.dll from the C++ source files in C:\\Users\\RAM\\AppData\\Local\\Temp\\pip-install-_45fzl1f\\xgboost_375b5e799de14531948656ee01e8e141\\cpp_src...\n",
      "      INFO:xgboost.packager.build_libxgboost:CMake args: ['cmake', 'C:\\\\Users\\\\RAM\\\\AppData\\\\Local\\\\Temp\\\\pip-install-_45fzl1f\\\\xgboost_375b5e799de14531948656ee01e8e141\\\\cpp_src', '-GVisual Studio 17 2022', '-DKEEP_BUILD_ARTIFACTS_IN_BINARY_DIR=ON', '-DHIDE_CXX_SYMBOLS=ON', '-DUSE_OPENMP=ON', '-DUSE_CUDA=OFF', '-DUSE_NCCL=OFF', '-DUSE_DLOPEN_NCCL=OFF', '-DPLUGIN_FEDERATED=OFF', '-DPLUGIN_RMM=OFF']\n",
      "      Traceback (most recent call last):\n",
      "        File \"C:\\Users\\RAM\\anaconda3\\Lib\\site-packages\\pip\\_vendor\\pyproject_hooks\\_in_process\\_in_process.py\", line 353, in <module>\n",
      "          main()\n",
      "        File \"C:\\Users\\RAM\\anaconda3\\Lib\\site-packages\\pip\\_vendor\\pyproject_hooks\\_in_process\\_in_process.py\", line 335, in main\n",
      "          json_out['return_val'] = hook(**hook_input['kwargs'])\n",
      "                                   ^^^^^^^^^^^^^^^^^^^^^^^^^^^^\n",
      "        File \"C:\\Users\\RAM\\anaconda3\\Lib\\site-packages\\pip\\_vendor\\pyproject_hooks\\_in_process\\_in_process.py\", line 152, in prepare_metadata_for_build_wheel\n",
      "          whl_basename = backend.build_wheel(metadata_directory, config_settings)\n",
      "                         ^^^^^^^^^^^^^^^^^^^^^^^^^^^^^^^^^^^^^^^^^^^^^^^^^^^^^^^^\n",
      "        File \"C:\\Users\\RAM\\AppData\\Local\\Temp\\pip-install-_45fzl1f\\xgboost_375b5e799de14531948656ee01e8e141\\packager\\pep517.py\", line 80, in build_wheel\n",
      "          libxgboost = locate_or_build_libxgboost(\n",
      "                       ^^^^^^^^^^^^^^^^^^^^^^^^^^^\n",
      "        File \"C:\\Users\\RAM\\AppData\\Local\\Temp\\pip-install-_45fzl1f\\xgboost_375b5e799de14531948656ee01e8e141\\packager\\nativelib.py\", line 171, in locate_or_build_libxgboost\n",
      "          return build_libxgboost(cpp_src_dir, build_dir=build_dir, build_config=build_config)\n",
      "                 ^^^^^^^^^^^^^^^^^^^^^^^^^^^^^^^^^^^^^^^^^^^^^^^^^^^^^^^^^^^^^^^^^^^^^^^^^^^^^\n",
      "        File \"C:\\Users\\RAM\\AppData\\Local\\Temp\\pip-install-_45fzl1f\\xgboost_375b5e799de14531948656ee01e8e141\\packager\\nativelib.py\", line 77, in build_libxgboost\n",
      "          _build(generator=generator)\n",
      "        File \"C:\\Users\\RAM\\AppData\\Local\\Temp\\pip-install-_45fzl1f\\xgboost_375b5e799de14531948656ee01e8e141\\packager\\nativelib.py\", line 57, in _build\n",
      "          subprocess.check_call(cmake_cmd, cwd=build_dir)\n",
      "        File \"C:\\Users\\RAM\\anaconda3\\Lib\\subprocess.py\", line 408, in check_call\n",
      "          retcode = call(*popenargs, **kwargs)\n",
      "                    ^^^^^^^^^^^^^^^^^^^^^^^^^^\n",
      "        File \"C:\\Users\\RAM\\anaconda3\\Lib\\subprocess.py\", line 389, in call\n",
      "          with Popen(*popenargs, **kwargs) as p:\n",
      "               ^^^^^^^^^^^^^^^^^^^^^^^^^^^\n",
      "        File \"C:\\Users\\RAM\\anaconda3\\Lib\\subprocess.py\", line 1026, in __init__\n",
      "          self._execute_child(args, executable, preexec_fn, close_fds,\n",
      "        File \"C:\\Users\\RAM\\anaconda3\\Lib\\subprocess.py\", line 1538, in _execute_child\n",
      "          hp, ht, pid, tid = _winapi.CreateProcess(executable, args,\n",
      "                             ^^^^^^^^^^^^^^^^^^^^^^^^^^^^^^^^^^^^^^^\n",
      "      FileNotFoundError: [WinError 2] The system cannot find the file specified\n",
      "      [end of output]\n",
      "  \n",
      "  note: This error originates from a subprocess, and is likely not a problem with pip.\n",
      "error: metadata-generation-failed\n",
      "\n",
      "× Encountered error while generating package metadata.\n",
      "╰─> See above for output.\n",
      "\n",
      "note: This is an issue with the package mentioned above, not pip.\n",
      "hint: See above for details.\n"
     ]
    }
   ],
   "source": [
    "!pip install xgboost"
   ]
  },
  {
   "cell_type": "code",
   "execution_count": 28,
   "id": "404882d8-57db-4e11-ab94-cea464cc3ec9",
   "metadata": {},
   "outputs": [
    {
     "ename": "NameError",
     "evalue": "name 'XGBClassifier' is not defined",
     "output_type": "error",
     "traceback": [
      "\u001b[1;31m---------------------------------------------------------------------------\u001b[0m",
      "\u001b[1;31mNameError\u001b[0m                                 Traceback (most recent call last)",
      "Cell \u001b[1;32mIn[28], line 2\u001b[0m\n\u001b[0;32m      1\u001b[0m \u001b[38;5;66;03m# Using Machine Learning Algorithm (Frist algorithm)\u001b[39;00m\n\u001b[1;32m----> 2\u001b[0m model \u001b[38;5;241m=\u001b[39m XGBClassifier(\n\u001b[0;32m      3\u001b[0m     n_estimators\u001b[38;5;241m=\u001b[39m\u001b[38;5;241m100\u001b[39m,\n\u001b[0;32m      4\u001b[0m     learning_rate\u001b[38;5;241m=\u001b[39m\u001b[38;5;241m0.1\u001b[39m,\n\u001b[0;32m      5\u001b[0m     max_depth\u001b[38;5;241m=\u001b[39m\u001b[38;5;241m7\u001b[39m,\n\u001b[0;32m      6\u001b[0m     subsample\u001b[38;5;241m=\u001b[39m\u001b[38;5;241m0.8\u001b[39m,\n\u001b[0;32m      7\u001b[0m     colsample_bytree\u001b[38;5;241m=\u001b[39m\u001b[38;5;241m0.8\u001b[39m,\n\u001b[0;32m      8\u001b[0m     scale_pos_weight\u001b[38;5;241m=\u001b[39m\u001b[38;5;28mlen\u001b[39m(Y_train_resampled[Y_train_resampled \u001b[38;5;241m==\u001b[39m \u001b[38;5;241m0\u001b[39m]) \u001b[38;5;241m/\u001b[39m \u001b[38;5;28mlen\u001b[39m(Y_train_resampled[Y_train_resampled \u001b[38;5;241m==\u001b[39m \u001b[38;5;241m1\u001b[39m]),\n\u001b[0;32m      9\u001b[0m     random_state\u001b[38;5;241m=\u001b[39m\u001b[38;5;241m42\u001b[39m,\n\u001b[0;32m     10\u001b[0m     reg_alpha\u001b[38;5;241m=\u001b[39m\u001b[38;5;241m5\u001b[39m,  \u001b[38;5;66;03m# L1 Regularization\u001b[39;00m\n\u001b[0;32m     11\u001b[0m     reg_lambda\u001b[38;5;241m=\u001b[39m\u001b[38;5;241m5\u001b[39m  \u001b[38;5;66;03m# L2 Regularization\u001b[39;00m\n\u001b[0;32m     12\u001b[0m )\n\u001b[0;32m     14\u001b[0m \u001b[38;5;66;03m# Training Model\u001b[39;00m\n\u001b[0;32m     15\u001b[0m model\u001b[38;5;241m.\u001b[39mfit(X_train_resampled, Y_train_resampled)\n",
      "\u001b[1;31mNameError\u001b[0m: name 'XGBClassifier' is not defined"
     ]
    }
   ],
   "source": [
    "# Using Machine Learning Algorithm (Frist algorithm)\n",
    "model = XGBClassifier(\n",
    "    n_estimators=100,\n",
    "    learning_rate=0.1,\n",
    "    max_depth=7,\n",
    "    subsample=0.8,\n",
    "    colsample_bytree=0.8,\n",
    "    scale_pos_weight=len(Y_train_resampled[Y_train_resampled == 0]) / len(Y_train_resampled[Y_train_resampled == 1]),\n",
    "    random_state=42,\n",
    "    reg_alpha=5,  # L1 Regularization\n",
    "    reg_lambda=5  # L2 Regularization\n",
    ")\n",
    "\n",
    "# Training Model\n",
    "model.fit(X_train_resampled, Y_train_resampled)\n",
    "\n",
    "# Evaluation the Model(train)\n",
    "X_train_prediction = model.predict(X_train_resampled)\n",
    "\n",
    "# Calculate the confusion matrix \n",
    "cm_train = confusion_matrix(Y_train_resampled, X_train_prediction)\n",
    "print(\"Confusion Matrix (Train):\\n\", cm_train)\n",
    "\n",
    "# Visualize the confusion matrix for the training data\n",
    "plt.figure(figsize=(8, 6))\n",
    "sns.heatmap(cm_train, annot=True, fmt='d', cmap='Blues', xticklabels=[0, 1], yticklabels=[0, 1])\n",
    "plt.title('Confusion Matrix (Train Data)')\n",
    "plt.xlabel('Predicted')\n",
    "plt.ylabel('True')\n",
    "plt.show()\n",
    "\n",
    "# k-fold Cross-validation\n",
    "# Calculate metrics for the training data (Forth Step(chooseing appropriate criteria ))\n",
    "kf = KFold(n_splits=5, shuffle=True, random_state=42)\n",
    "scores = cross_val_score(model, X_train_resampled, Y_train_resampled, cv=kf, scoring='f1')  \n",
    "\n",
    "\n",
    "recall_train = recall_score(Y_train_resampled, X_train_prediction)\n",
    "f1_train = f1_score(Y_train_resampled, X_train_prediction)\n",
    "auc_roc_train = roc_auc_score(Y_train_resampled, X_train_prediction)\n",
    "print(\"F1-score:\", f1_train)\n",
    "\n",
    "\n",
    "\n"
   ]
  },
  {
   "cell_type": "code",
   "execution_count": null,
   "id": "0efd60a4-475f-4c5e-9812-5e173296abd4",
   "metadata": {},
   "outputs": [
    {
     "name": "stdout",
     "output_type": "stream",
     "text": [
      "\n",
      "Confusion Matrix (Test):\n",
      " [[1241 1264]\n",
      " [ 530  565]]\n"
     ]
    },
    {
     "data": {
      "image/png": "[encoded data removed]",
      "text/plain": [
       "<Figure size 800x600 with 2 Axes>"
      ]
     },
     "metadata": {},
     "output_type": "display_data"
    },
    {
     "name": "stdout",
     "output_type": "stream",
     "text": [
      "\n",
      "Test Data Metrics:\n",
      "Recall: 0.5159817351598174\n",
      "F1-score: 0.3864569083447333\n",
      "AUC-ROC: 0.505695458398272\n",
      "Cross-validation scores: [0.46646647 0.4765625  0.51257253 0.47692308 0.48323471]\n",
      "Average score: 0.4831518582485236\n"
     ]
    }
   ],
   "source": [
    "# Evaluate the model on the test set\n",
    "X_test_prediction = model.predict(X_test)\n",
    "\n",
    "# Calculate the confusion matrix \n",
    "cm_test = confusion_matrix(Y_test, X_test_prediction)\n",
    "print(\"\\nConfusion Matrix (Test):\\n\", cm_test)\n",
    "\n",
    "# Visualize the confusion matrix for the training data\n",
    "plt.figure(figsize=(8, 6))\n",
    "sns.heatmap(cm_test, annot=True, fmt='d', cmap='Blues', xticklabels=[0, 1], yticklabels=[0, 1])\n",
    "plt.title('Confusion Matrix (Test Data)')\n",
    "plt.xlabel('Predicted')\n",
    "plt.ylabel('True')\n",
    "plt.show()\n",
    "\n",
    "# k-fold Cross-validation\n",
    "# Calculate metrics for the training data (Forth Step(chooseing appropriate criteria ))\n",
    "kf = KFold(n_splits=5, shuffle=True, random_state=42)\n",
    "scores = cross_val_score(model, X_train_resampled, Y_train_resampled, cv=kf, scoring='f1')  \n",
    "recall_test = recall_score(Y_test, X_test_prediction)\n",
    "f1_test = f1_score(Y_test, X_test_prediction)\n",
    "auc_roc_test = roc_auc_score(Y_test, X_test_prediction)\n",
    "\n",
    "print(\"\\nTest Data Metrics:\")\n",
    "print(\"Recall:\", recall_test)\n",
    "print(\"F1-score:\", f1_test)\n",
    "print(\"AUC-ROC:\", auc_roc_test)\n",
    "print(\"Cross-validation scores:\", scores)\n",
    "print(\"Average score:\", scores.mean())"
   ]
  },
  {
   "cell_type": "code",
   "execution_count": 37,
   "id": "815e6808-8a42-40a3-96e0-fdbd26f020ff",
   "metadata": {},
   "outputs": [
    {
     "name": "stdout",
     "output_type": "stream",
     "text": [
      "Confusion Matrix:\n",
      " [[2100    0    0    0]\n",
      " [   0 2100    0    0]\n",
      " [   0    0 2100    0]\n",
      " [   0    0    0 2100]]\n"
     ]
    },
    {
     "data": {
      "image/png": "[encoded data removed]",
      "text/plain": [
       "<Figure size 800x600 with 2 Axes>"
      ]
     },
     "metadata": {},
     "output_type": "display_data"
    },
    {
     "name": "stdout",
     "output_type": "stream",
     "text": [
      "\n",
      "Train Data Metrics:\n",
      "Accuracy: 1.0\n",
      "Precision: 1.0\n",
      "Recall: 1.0\n",
      "F1-score: 1.0\n"
     ]
    }
   ],
   "source": [
    "# Using Machine Learning Algorithm (second algorithm)\n",
    "model1 = RandomForestClassifier(n_estimators=250, random_state=50)\n",
    "\n",
    "# Traning Model\n",
    "model1.fit(X_train, Y_train)\n",
    "\n",
    "# Evaluation the Model(train)\n",
    "X_train_prediction = model1.predict(X_train)\n",
    "\n",
    "# Calculate the confusion matrix \n",
    "cm = confusion_matrix(Y_train, X_train_prediction)\n",
    "print(\"Confusion Matrix:\\n\", cm)\n",
    "\n",
    "# Visualize the confusion matrix for the training data\n",
    "plt.figure(figsize=(8, 6))\n",
    "sns.heatmap(cm, annot=True, fmt='d', cmap='Blues', xticklabels=[0, 1], yticklabels=[0, 1])\n",
    "plt.title('Confusion Matrix (Training Data)')\n",
    "plt.xlabel('Predicted')\n",
    "plt.ylabel('True')\n",
    "plt.show()\n",
    "\n",
    "# Calculate metrics for the training data\n",
    "accuracy = accuracy_score(Y_train, X_train_prediction)\n",
    "precision = precision_score(Y_train, X_train_prediction,average=\"weighted\")\n",
    "recall = recall_score(Y_train, X_train_prediction, average='weighted')\n",
    "f1 = f1_score(Y_train, X_train_prediction,average='weighted') \n",
    "\n",
    "print(\"\\nTrain Data Metrics:\")\n",
    "print(\"Accuracy:\", accuracy)\n",
    "print(\"Precision:\", precision)\n",
    "print(\"Recall:\", recall)\n",
    "print(\"F1-score:\", f1)\n"
   ]
  },
  {
   "cell_type": "code",
   "execution_count": null,
   "id": "a4e8d344-d8cb-43ec-962b-42348e895504",
   "metadata": {},
   "outputs": [
    {
     "name": "stdout",
     "output_type": "stream",
     "text": [
      "\n",
      "Confusion Matrix (Test Data):\n",
      " [[2484   21]\n",
      " [1084   11]]\n"
     ]
    },
    {
     "data": {
      "image/png": "[encoded data removed]",
      "text/plain": [
       "<Figure size 800x600 with 2 Axes>"
      ]
     },
     "metadata": {},
     "output_type": "display_data"
    },
    {
     "name": "stdout",
     "output_type": "stream",
     "text": [
      "\n",
      "Test Data Metrics:\n",
      "Accuracy: 0.6930555555555555\n",
      "Precision: 0.34375\n",
      "Recall: 0.01004566210045662\n",
      "F1-score: 0.019520851818988466\n"
     ]
    }
   ],
   "source": [
    "# Evaluate the model on the test set\n",
    "X_test_prediction = model.predict(X_test)\n",
    "\n",
    "# Calculate the confusion matrix for the test set\n",
    "cm_test = confusion_matrix(Y_test, X_test_prediction)\n",
    "print(\"\\nConfusion Matrix (Test Data):\\n\", cm_test)\n",
    "\n",
    "# Visualize the confusion matrix for the test set\n",
    "plt.figure(figsize=(8, 6))\n",
    "sns.heatmap(cm_test, annot=True, fmt='d', cmap='Reds', xticklabels=[0, 1], yticklabels=[0, 1])\n",
    "plt.title('Confusion Matrix (Test Data)')\n",
    "plt.xlabel('Predicted')\n",
    "plt.ylabel('True')\n",
    "plt.show()\n",
    "\n",
    "# Calculate metrics for the test set\n",
    "accuracy_test = accuracy_score(Y_test, X_test_prediction)\n",
    "precision_test = precision_score(Y_test, X_test_prediction)\n",
    "recall_test = recall_score(Y_test, X_test_prediction)\n",
    "f1_test = f1_score(Y_test, X_test_prediction)\n",
    "\n",
    "print(\"\\nTest Data Metrics:\")\n",
    "print(\"Accuracy:\", accuracy_test)\n",
    "print(\"Precision:\", precision_test)\n",
    "print(\"Recall:\", recall_test)\n",
    "print(\"F1-score:\", f1_test)\n"
   ]
  },
  {
   "cell_type": "code",
   "execution_count": 35,
   "id": "eace7b1e",
   "metadata": {},
   "outputs": [],
   "source": [
    "# make a folder\n",
    "ARTIFACTS_FOLDER_PATH = os.path.join(os.getcwd(), \"..\", \"artifacts\")\n",
    "os.makedirs(ARTIFACTS_FOLDER_PATH, exist_ok=True)\n"
   ]
  },
  {
   "cell_type": "code",
   "execution_count": 38,
   "id": "5e939566",
   "metadata": {},
   "outputs": [
    {
     "data": {
      "text/plain": [
       "['e:\\\\FCAI\\\\LEVEL 4\\\\Graduation Project\\\\sorce code\\\\Pet_Health_Ml\\\\notebooks\\\\..\\\\artifacts\\\\model.pkl']"
      ]
     },
     "execution_count": 38,
     "metadata": {},
     "output_type": "execute_result"
    }
   ],
   "source": [
    "joblib.dump(model1, os.path.join(ARTIFACTS_FOLDER_PATH, 'model.pkl'), compress=5)"
   ]
  },
  {
   "cell_type": "code",
   "execution_count": null,
   "id": "ac49b1c2-a0f4-49ce-842b-76f690ae6457",
   "metadata": {},
   "outputs": [
    {
     "name": "stderr",
     "output_type": "stream",
     "text": [
      "C:\\Users\\SCS\\anaconda3\\Lib\\site-packages\\sklearn\\linear_model\\_logistic.py:458: ConvergenceWarning: lbfgs failed to converge (status=1):\n",
      "STOP: TOTAL NO. of ITERATIONS REACHED LIMIT.\n",
      "\n",
      "Increase the number of iterations (max_iter) or scale the data as shown in:\n",
      "    https://scikit-learn.org/stable/modules/preprocessing.html\n",
      "Please also refer to the documentation for alternative solver options:\n",
      "    https://scikit-learn.org/stable/modules/linear_model.html#logistic-regression\n",
      "  n_iter_i = _check_optimize_result(\n"
     ]
    },
    {
     "name": "stdout",
     "output_type": "stream",
     "text": [
      "Confusion Matrix:\n",
      " [[5845    0]\n",
      " [2555    0]]\n"
     ]
    },
    {
     "data": {
      "image/png": "[encoded data removed]",
      "text/plain": [
       "<Figure size 800x600 with 2 Axes>"
      ]
     },
     "metadata": {},
     "output_type": "display_data"
    },
    {
     "name": "stdout",
     "output_type": "stream",
     "text": [
      "\n",
      "Train Data Metrics:\n",
      "Accuracy: 0.6958333333333333\n",
      "Precision: 0.0\n",
      "Recall: 0.0\n",
      "F1-score: 0.0\n"
     ]
    },
    {
     "name": "stderr",
     "output_type": "stream",
     "text": [
      "C:\\Users\\SCS\\anaconda3\\Lib\\site-packages\\sklearn\\metrics\\_classification.py:1344: UndefinedMetricWarning: Precision is ill-defined and being set to 0.0 due to no predicted samples. Use `zero_division` parameter to control this behavior.\n",
      "  _warn_prf(average, modifier, msg_start, len(result))\n"
     ]
    }
   ],
   "source": [
    "# Using Machine Learning Algorithm (Third algorithm)\n",
    "Model = LogisticRegression(max_iter=100)\n",
    "\n",
    "# Training the Model\n",
    "Model.fit(X_train, Y_train)\n",
    "\n",
    "# Evaluate the Model on training data\n",
    "X_train_prediction = Model.predict(X_train)\n",
    "\n",
    "# Calculate the confusion matrix \n",
    "cm = confusion_matrix(Y_train, X_train_prediction)\n",
    "print(\"Confusion Matrix:\\n\", cm)\n",
    "\n",
    "# Visualize the confusion matrix for the training data\n",
    "plt.figure(figsize=(8, 6))\n",
    "sns.heatmap(cm, annot=True, fmt='d', cmap='Blues', xticklabels=[0, 1], yticklabels=[0, 1])\n",
    "plt.title('Confusion Matrix (Training Data)')\n",
    "plt.xlabel('Predicted')\n",
    "plt.ylabel('True')\n",
    "plt.show()\n",
    "\n",
    "# Calculate metrics for the training data\n",
    "accuracy = accuracy_score(Y_train, X_train_prediction)\n",
    "precision = precision_score(Y_train, X_train_prediction)\n",
    "recall = recall_score(Y_train, X_train_prediction)\n",
    "f1 = f1_score(Y_train, X_train_prediction)\n",
    "\n",
    "print(\"\\nTrain Data Metrics:\")\n",
    "print(\"Accuracy:\", accuracy)\n",
    "print(\"Precision:\", precision)\n",
    "print(\"Recall:\", recall)\n",
    "print(\"F1-score:\", f1)\n"
   ]
  },
  {
   "cell_type": "code",
   "execution_count": null,
   "id": "9905b01a-fe7f-4b98-8a7a-b25c170ae1db",
   "metadata": {},
   "outputs": [
    {
     "name": "stdout",
     "output_type": "stream",
     "text": [
      "\n",
      "Confusion Matrix (Test Data):\n",
      " [[2484   21]\n",
      " [1084   11]]\n"
     ]
    },
    {
     "data": {
      "image/png": "[encoded data removed]",
      "text/plain": [
       "<Figure size 800x600 with 2 Axes>"
      ]
     },
     "metadata": {},
     "output_type": "display_data"
    },
    {
     "name": "stdout",
     "output_type": "stream",
     "text": [
      "\n",
      "Test Data Metrics:\n",
      "Accuracy: 0.6930555555555555\n",
      "Precision: 0.34375\n",
      "Recall: 0.01004566210045662\n",
      "F1-score: 0.019520851818988466\n"
     ]
    }
   ],
   "source": [
    "# Evaluate the model on the test set\n",
    "X_test_prediction = model.predict(X_test)\n",
    "\n",
    "# Calculate the confusion matrix for the test set\n",
    "cm_test = confusion_matrix(Y_test, X_test_prediction)\n",
    "print(\"\\nConfusion Matrix (Test Data):\\n\", cm_test)\n",
    "\n",
    "# Visualize the confusion matrix for the test set\n",
    "plt.figure(figsize=(8, 6))\n",
    "sns.heatmap(cm_test, annot=True, fmt='d', cmap='Reds', xticklabels=[0, 1], yticklabels=[0, 1])\n",
    "plt.title('Confusion Matrix (Test Data)')\n",
    "plt.xlabel('Predicted')\n",
    "plt.ylabel('True')\n",
    "plt.show()\n",
    "\n",
    "# Calculate metrics for the test set\n",
    "accuracy_test = accuracy_score(Y_test, X_test_prediction)\n",
    "precision_test = precision_score(Y_test, X_test_prediction)\n",
    "recall_test = recall_score(Y_test, X_test_prediction)\n",
    "f1_test = f1_score(Y_test, X_test_prediction)\n",
    "\n",
    "print(\"\\nTest Data Metrics:\")\n",
    "print(\"Accuracy:\", accuracy_test)\n",
    "print(\"Precision:\", precision_test)\n",
    "print(\"Recall:\", recall_test)\n",
    "print(\"F1-score:\", f1_test)\n"
   ]
  },
  {
   "cell_type": "code",
   "execution_count": 332,
   "id": "615ef4f8-9e70-449b-84bc-458ebc0acfe0",
   "metadata": {},
   "outputs": [],
   "source": [
    "from sklearn.preprocessing import StandardScaler\n",
    "\n",
    "scaler = StandardScaler()\n",
    "\n",
    "X_train_std = scaler.fit_transform(X_train)\n",
    "\n",
    "X_test_std = scaler.transform(X_test)"
   ]
  },
  {
   "cell_type": "code",
   "execution_count": 334,
   "id": "b3f2a95a-f956-4829-9bd4-e1ee04734bca",
   "metadata": {},
   "outputs": [
    {
     "name": "stderr",
     "output_type": "stream",
     "text": [
      "C:\\Users\\SCS\\anaconda3\\Lib\\site-packages\\keras\\src\\layers\\core\\dense.py:87: UserWarning: Do not pass an `input_shape`/`input_dim` argument to a layer. When using Sequential models, prefer using an `Input(shape)` object as the first layer in the model instead.\n",
      "  super().__init__(activity_regularizer=activity_regularizer, **kwargs)\n",
      "C:\\Users\\SCS\\anaconda3\\Lib\\site-packages\\keras\\src\\layers\\activations\\leaky_relu.py:41: UserWarning: Argument `alpha` is deprecated. Use `negative_slope` instead.\n",
      "  warnings.warn(\n"
     ]
    },
    {
     "name": "stdout",
     "output_type": "stream",
     "text": [
      "Epoch 1/20\n",
      "\u001b[1m22/22\u001b[0m \u001b[32m━━━━━━━━━━━━━━━━━━━━\u001b[0m\u001b[37m\u001b[0m \u001b[1m5s\u001b[0m 5ms/step - accuracy: 0.5561 - loss: 0.8062 - learning_rate: 0.0010\n",
      "Epoch 2/20\n",
      "\u001b[1m22/22\u001b[0m \u001b[32m━━━━━━━━━━━━━━━━━━━━\u001b[0m\u001b[37m\u001b[0m \u001b[1m0s\u001b[0m 4ms/step - accuracy: 0.6025 - loss: 0.6682 - learning_rate: 0.0010\n",
      "Epoch 3/20\n",
      "\u001b[1m22/22\u001b[0m \u001b[32m━━━━━━━━━━━━━━━━━━━━\u001b[0m\u001b[37m\u001b[0m \u001b[1m0s\u001b[0m 4ms/step - accuracy: 0.7068 - loss: 0.5820 - learning_rate: 0.0010\n",
      "Epoch 4/20\n",
      "\u001b[1m22/22\u001b[0m \u001b[32m━━━━━━━━━━━━━━━━━━━━\u001b[0m\u001b[37m\u001b[0m \u001b[1m0s\u001b[0m 5ms/step - accuracy: 0.6949 - loss: 0.5620 - learning_rate: 0.0010\n",
      "Epoch 5/20\n",
      "\u001b[1m22/22\u001b[0m \u001b[32m━━━━━━━━━━━━━━━━━━━━\u001b[0m\u001b[37m\u001b[0m \u001b[1m0s\u001b[0m 4ms/step - accuracy: 0.7675 - loss: 0.5101 - learning_rate: 0.0010\n",
      "Epoch 6/20\n",
      "\u001b[1m22/22\u001b[0m \u001b[32m━━━━━━━━━━━━━━━━━━━━\u001b[0m\u001b[37m\u001b[0m \u001b[1m0s\u001b[0m 4ms/step - accuracy: 0.7879 - loss: 0.5131 - learning_rate: 0.0010\n",
      "Epoch 7/20\n",
      "\u001b[1m22/22\u001b[0m \u001b[32m━━━━━━━━━━━━━━━━━━━━\u001b[0m\u001b[37m\u001b[0m \u001b[1m0s\u001b[0m 4ms/step - accuracy: 0.7989 - loss: 0.4587 - learning_rate: 0.0010\n",
      "Epoch 8/20\n",
      "\u001b[1m22/22\u001b[0m \u001b[32m━━━━━━━━━━━━━━━━━━━━\u001b[0m\u001b[37m\u001b[0m \u001b[1m0s\u001b[0m 5ms/step - accuracy: 0.8320 - loss: 0.4180 - learning_rate: 0.0010\n",
      "Epoch 9/20\n",
      "\u001b[1m22/22\u001b[0m \u001b[32m━━━━━━━━━━━━━━━━━━━━\u001b[0m\u001b[37m\u001b[0m \u001b[1m0s\u001b[0m 4ms/step - accuracy: 0.8553 - loss: 0.4086 - learning_rate: 0.0010\n",
      "Epoch 10/20\n",
      "\u001b[1m22/22\u001b[0m \u001b[32m━━━━━━━━━━━━━━━━━━━━\u001b[0m\u001b[37m\u001b[0m \u001b[1m0s\u001b[0m 5ms/step - accuracy: 0.8862 - loss: 0.3615 - learning_rate: 0.0010\n",
      "Epoch 11/20\n",
      "\u001b[1m22/22\u001b[0m \u001b[32m━━━━━━━━━━━━━━━━━━━━\u001b[0m\u001b[37m\u001b[0m \u001b[1m0s\u001b[0m 5ms/step - accuracy: 0.9050 - loss: 0.3425 - learning_rate: 0.0010\n",
      "Epoch 12/20\n",
      "\u001b[1m22/22\u001b[0m \u001b[32m━━━━━━━━━━━━━━━━━━━━\u001b[0m\u001b[37m\u001b[0m \u001b[1m0s\u001b[0m 5ms/step - accuracy: 0.8993 - loss: 0.3145 - learning_rate: 0.0010\n",
      "Epoch 13/20\n",
      "\u001b[1m22/22\u001b[0m \u001b[32m━━━━━━━━━━━━━━━━━━━━\u001b[0m\u001b[37m\u001b[0m \u001b[1m0s\u001b[0m 5ms/step - accuracy: 0.9192 - loss: 0.2920 - learning_rate: 0.0010\n",
      "Epoch 14/20\n",
      "\u001b[1m22/22\u001b[0m \u001b[32m━━━━━━━━━━━━━━━━━━━━\u001b[0m\u001b[37m\u001b[0m \u001b[1m0s\u001b[0m 5ms/step - accuracy: 0.9350 - loss: 0.2594 - learning_rate: 0.0010\n",
      "Epoch 15/20\n",
      "\u001b[1m22/22\u001b[0m \u001b[32m━━━━━━━━━━━━━━━━━━━━\u001b[0m\u001b[37m\u001b[0m \u001b[1m0s\u001b[0m 5ms/step - accuracy: 0.9493 - loss: 0.2481 - learning_rate: 0.0010\n",
      "Epoch 16/20\n",
      "\u001b[1m22/22\u001b[0m \u001b[32m━━━━━━━━━━━━━━━━━━━━\u001b[0m\u001b[37m\u001b[0m \u001b[1m0s\u001b[0m 5ms/step - accuracy: 0.9496 - loss: 0.2094 - learning_rate: 0.0010\n",
      "Epoch 17/20\n",
      "\u001b[1m22/22\u001b[0m \u001b[32m━━━━━━━━━━━━━━━━━━━━\u001b[0m\u001b[37m\u001b[0m \u001b[1m0s\u001b[0m 5ms/step - accuracy: 0.9470 - loss: 0.2046 - learning_rate: 0.0010\n",
      "Epoch 18/20\n",
      "\u001b[1m22/22\u001b[0m \u001b[32m━━━━━━━━━━━━━━━━━━━━\u001b[0m\u001b[37m\u001b[0m \u001b[1m0s\u001b[0m 4ms/step - accuracy: 0.9575 - loss: 0.2035 - learning_rate: 0.0010\n",
      "Epoch 19/20\n",
      "\u001b[1m22/22\u001b[0m \u001b[32m━━━━━━━━━━━━━━━━━━━━\u001b[0m\u001b[37m\u001b[0m \u001b[1m0s\u001b[0m 9ms/step - accuracy: 0.9433 - loss: 0.1885 - learning_rate: 0.0010\n",
      "Epoch 20/20\n",
      "\u001b[1m22/22\u001b[0m \u001b[32m━━━━━━━━━━━━━━━━━━━━\u001b[0m\u001b[37m\u001b[0m \u001b[1m0s\u001b[0m 5ms/step - accuracy: 0.9705 - loss: 0.1523 - learning_rate: 0.0010\n",
      "\u001b[1m10/10\u001b[0m \u001b[32m━━━━━━━━━━━━━━━━━━━━\u001b[0m\u001b[37m\u001b[0m \u001b[1m0s\u001b[0m 24ms/step\n",
      "Confusion Matrix:\n",
      " [[ 40 114]\n",
      " [ 32 114]]\n",
      "Accuracy: 0.5133333333333333\n",
      "Recall: 0.7808219178082192\n",
      "F1 Score: 0.6096256684491979\n",
      "Precision: 0.5\n"
     ]
    }
   ],
   "source": [
    "import tensorflow as tf\n",
    "from tensorflow.keras.models import Sequential\n",
    "from tensorflow.keras.layers import Dense, LeakyReLU, BatchNormalization\n",
    "from tensorflow.keras.optimizers import Adam\n",
    "from tensorflow.keras.callbacks import ReduceLROnPlateau\n",
    "\n",
    "# Example of random data - replace with your own data\n",
    "X = np.random.rand(1000, 20)  \n",
    "y = np.random.randint(0, 2, 1000)  \n",
    "\n",
    "# Split the data into training and test sets\n",
    "X_train, X_test, y_train, y_test = train_test_split(X, y, test_size=0.3, random_state=42)\n",
    "\n",
    "# Build the neural network model with enhancements\n",
    "model = Sequential([\n",
    "    Dense(128, input_dim=20),  \n",
    "    LeakyReLU(alpha=0.01),\n",
    "    BatchNormalization(), \n",
    "    Dense(64),\n",
    "    LeakyReLU(alpha=0.01),\n",
    "    BatchNormalization(),  \n",
    "    Dense(32),\n",
    "    LeakyReLU(alpha=0.01),\n",
    "    BatchNormalization(),  \n",
    "    Dense(1, activation='sigmoid')  \n",
    "])\n",
    "\n",
    "# Optimizing the model using Adam Optimizer with Learning Rate Scheduler\n",
    "optimizer = Adam(learning_rate=0.001)\n",
    "\n",
    "# Compile the model\n",
    "model.compile(optimizer=optimizer, loss='binary_crossentropy', metrics=['accuracy'])\n",
    "\n",
    "# Reduce learning rate if improvement stops\n",
    "lr_scheduler = ReduceLROnPlateau(monitor='loss', factor=0.5, patience=3, min_lr=0.0001)\n",
    "\n",
    "# Train the model\n",
    "model.fit(X_train, y_train, epochs=20, batch_size=32, verbose=1, callbacks=[lr_scheduler])\n",
    "\n",
    "# Predict using the model\n",
    "y_pred = (model.predict(X_test) > 0.5).astype(int)\n",
    "\n",
    "# Compute confusion matrix\n",
    "cm = confusion_matrix(y_test, y_pred)\n",
    "print(\"Confusion Matrix:\\n\", cm)\n",
    "\n",
    "# Compute accuracy\n",
    "accuracy = accuracy_score(y_test, y_pred)\n",
    "print(\"Accuracy:\", accuracy)\n",
    "\n",
    "# Compute recall\n",
    "recall = recall_score(y_test, y_pred)\n",
    "print(\"Recall:\", recall)\n",
    "\n",
    "# Compute F1 Score\n",
    "f1 = f1_score(y_test, y_pred)\n",
    "print(\"F1 Score:\", f1)\n",
    "\n",
    "# Compute precision\n",
    "precision = precision_score(y_test, y_pred)\n",
    "print(\"Precision:\", precision)\n"
   ]
  },
  {
   "cell_type": "code",
   "execution_count": null,
   "id": "4250f429-8efb-4aee-8752-47cdea4f8f4a",
   "metadata": {},
   "outputs": [],
   "source": []
  },
  {
   "cell_type": "code",
   "execution_count": null,
   "id": "2bc09c38-a1ec-4476-b4bd-dc3a6d5f8a8d",
   "metadata": {},
   "outputs": [],
   "source": []
  }
 ],
 "metadata": {
  "kernelspec": {
   "display_name": "base",
   "language": "python",
   "name": "python3"
  },
  "language_info": {
   "codemirror_mode": {
    "name": "ipython",
    "version": 3
   },
   "file_extension": ".py",
   "mimetype": "text/x-python",
   "name": "python",
   "nbconvert_exporter": "python",
   "pygments_lexer": "ipython3",
   "version": "3.12.7"
  }
 },
 "nbformat": 4,
 "nbformat_minor": 5
}
